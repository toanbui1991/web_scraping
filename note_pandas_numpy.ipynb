{
 "cells": [
  {
   "cell_type": "markdown",
   "metadata": {},
   "source": [
    "**note about pandas and numpy for parsing application:**\n",
    "- pd.read_html(io) to read html string into pandas table\n",
    "- read_html() return a list of pandas dataframe\n",
    "- io is string, path like object, file like object.\n",
    "- np.logical_not(), np.logical_or(), np.logical_and() is very useful for filtering operation"
   ]
  }
 ],
 "metadata": {
  "language_info": {
   "name": "python"
  },
  "orig_nbformat": 4
 },
 "nbformat": 4,
 "nbformat_minor": 2
}
