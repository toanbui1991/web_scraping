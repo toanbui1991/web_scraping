{
 "cells": [
  {
   "cell_type": "code",
   "execution_count": 11,
   "metadata": {},
   "outputs": [
    {
     "name": "stdout",
     "output_type": "stream",
     "text": [
      "  Mã CK                                   Tên công ty  \\\n",
      "0   ACB                         Ngân hàng TMCP Á Châu   \n",
      "1   BID  Ngân hàng TMCP Đầu tư và Phát triển Việt Nam   \n",
      "2   BVH                             Tập đoàn Bảo Việt   \n",
      "3   CTG           Ngân hàng TMCP Công Thương Việt Nam   \n",
      "4   FPT                                      CTCP FPT   \n",
      "\n",
      "                                            Ngành   Sàn  Khối lượng niên yết  \\\n",
      "0  Trung gian tín dụng và các hoạt động liên quan  HOSE         2.701948e+09   \n",
      "1  Trung gian tín dụng và các hoạt động liên quan  HOSE         5.058524e+09   \n",
      "2             Bảo hiểm và các hoạt động liên quan  HOSE         7.423228e+08   \n",
      "3  Trung gian tín dụng và các hoạt động liên quan  HOSE         4.805751e+09   \n",
      "4       Công nghiệp xuất bản - Ngoại trừ internet  HOSE         9.075516e+08   \n",
      "\n",
      "                                                Link  \n",
      "0  https://finance.vietstock.vn/ACB-ngan-hang-tmc...  \n",
      "1  https://finance.vietstock.vn/BID-ngan-hang-tmc...  \n",
      "2  https://finance.vietstock.vn/BVH-tap-doan-bao-...  \n",
      "3  https://finance.vietstock.vn/CTG-ngan-hang-tmc...  \n",
      "4      https://finance.vietstock.vn/FPT-ctcp-fpt.htm  \n"
     ]
    }
   ],
   "source": [
    "import pandas as pd\n",
    "import numpy as np\n",
    "\n",
    "vn_30_path = './data/vn_30_list.csv'\n",
    "vn_30_data = pd.read_csv(vn_30_path)\n",
    "vn_30_data.drop(columns=[\"Unnamed: 0\"], inplace=True)\n",
    "stock_dict_path = './data/stocks_dict.csv'\n",
    "stock_data = pd.read_csv(stock_dict_path)\n",
    "stock_data.drop(columns=['Unnamed: 0'], inplace=True)\n",
    "#get links from stocks_data\n",
    "vn_30_data = pd.merge(left=vn_30_data, right=stock_data, on=['Mã CK'], how='left')\n",
    "#index=False if do not have named index, which is most of the case\n",
    "vn_30_data.to_csv('./data/vn_30_with_links.csv', index=False) \n"
   ]
  },
  {
   "cell_type": "code",
   "execution_count": 14,
   "metadata": {},
   "outputs": [
    {
     "name": "stderr",
     "output_type": "stream",
     "text": [
      "C:\\Users\\LT04\\AppData\\Local\\Temp\\ipykernel_7624\\1539713181.py:18: DeprecationWarning: executable_path has been deprecated, please pass in a Service object\n",
      "  with Chrome(executable_path=driver_path, chrome_options=options) as driver:\n",
      "C:\\Users\\LT04\\AppData\\Local\\Temp\\ipykernel_7624\\1539713181.py:18: DeprecationWarning: use options instead of chrome_options\n",
      "  with Chrome(executable_path=driver_path, chrome_options=options) as driver:\n"
     ]
    },
    {
     "name": "stdout",
     "output_type": "stream",
     "text": [
      "ACB: https://finance.vietstock.vn/ACB-ngan-hang-tmcp-a-chau.htm\n",
      "BID: https://finance.vietstock.vn/BID-ngan-hang-tmcp-dau-tu-va-phat-trien-viet-nam.htm\n",
      "BVH: https://finance.vietstock.vn/BVH-tap-doan-bao-viet.htm\n",
      "CTG: https://finance.vietstock.vn/CTG-ngan-hang-tmcp-cong-thuong-viet-nam.htm\n",
      "FPT: https://finance.vietstock.vn/FPT-ctcp-fpt.htm\n",
      "GAS: https://finance.vietstock.vn/GAS-tong-cong-ty-khi-viet-nam-ctcp.htm\n",
      "GVR: https://finance.vietstock.vn/GVR-tap-doan-cong-nghiep-cao-su-viet-nam-ctcp.htm\n",
      "HDB: https://finance.vietstock.vn/HDB-ngan-hang-tmcp-phat-trien-tp-hcm.htm\n",
      "HPG: https://finance.vietstock.vn/HPG-ctcp-tap-doan-hoa-phat.htm\n",
      "KDH: https://finance.vietstock.vn/KDH-ctcp-dau-tu-va-kinh-doanh-nha-khang-dien.htm\n",
      "MBB: https://finance.vietstock.vn/MBB-ngan-hang-tmcp-quan-doi.htm\n",
      "MSN: https://finance.vietstock.vn/MSN-ctcp-tap-doan-masan.htm\n",
      "MWG: https://finance.vietstock.vn/MWG-ctcp-dau-tu-the-gioi-di-dong.htm\n",
      "NVL: https://finance.vietstock.vn/NVL-ctcp-tap-doan-dau-tu-dia-oc-no-va.htm\n",
      "PDR: https://finance.vietstock.vn/PDR-ctcp-phat-trien-bat-dong-san-phat-dat.htm\n",
      "PLX*: nan\n"
     ]
    },
    {
     "ename": "InvalidArgumentException",
     "evalue": "Message: invalid argument: missing command parameters\nStacktrace:\nBacktrace:\n\tOrdinal0 [0x011C7413+2389011]\n\tOrdinal0 [0x01159F61+1941345]\n\tOrdinal0 [0x0104C658+837208]\n\tOrdinal0 [0x01092012+1122322]\n\tOrdinal0 [0x01091A29+1120809]\n\tOrdinal0 [0x0102D207+709127]\n\tOrdinal0 [0x0102D783+710531]\n\tOrdinal0 [0x0102DBBA+711610]\n\tGetHandleVerifier [0x01379632+1727522]\n\tGetHandleVerifier [0x0142BA4D+2457661]\n\tGetHandleVerifier [0x0125EB81+569713]\n\tGetHandleVerifier [0x0125DD76+566118]\n\tOrdinal0 [0x01160B2B+1968939]\n\tOrdinal0 [0x0102CF97+708503]\n\tOrdinal0 [0x0102CA48+707144]\n\tGetHandleVerifier [0x0145110C+2610940]\n\tBaseThreadInitThunk [0x7701FA29+25]\n\tRtlGetAppContainerNamedObjectPath [0x77967A7E+286]\n\tRtlGetAppContainerNamedObjectPath [0x77967A4E+238]\n",
     "output_type": "error",
     "traceback": [
      "\u001b[1;31m---------------------------------------------------------------------------\u001b[0m",
      "\u001b[1;31mInvalidArgumentException\u001b[0m                  Traceback (most recent call last)",
      "\u001b[1;32mc:\\Users\\LT04\\toanbui1991\\python\\web_scraping\\parse_vn_30_page.ipynb Cell 2'\u001b[0m in \u001b[0;36m<cell line: 18>\u001b[1;34m()\u001b[0m\n\u001b[0;32m     <a href='vscode-notebook-cell:/c%3A/Users/LT04/toanbui1991/python/web_scraping/parse_vn_30_page.ipynb#ch0000001?line=20'>21</a>\u001b[0m \u001b[39mfor\u001b[39;00m stock, link \u001b[39min\u001b[39;00m \u001b[39mzip\u001b[39m(stocks, links):\n\u001b[0;32m     <a href='vscode-notebook-cell:/c%3A/Users/LT04/toanbui1991/python/web_scraping/parse_vn_30_page.ipynb#ch0000001?line=21'>22</a>\u001b[0m     \u001b[39mprint\u001b[39m(\u001b[39m'\u001b[39m\u001b[39m{}\u001b[39;00m\u001b[39m: \u001b[39m\u001b[39m{}\u001b[39;00m\u001b[39m'\u001b[39m\u001b[39m.\u001b[39mformat(stock, link))\n\u001b[1;32m---> <a href='vscode-notebook-cell:/c%3A/Users/LT04/toanbui1991/python/web_scraping/parse_vn_30_page.ipynb#ch0000001?line=22'>23</a>\u001b[0m     driver\u001b[39m.\u001b[39;49mget(link)\n\u001b[0;32m     <a href='vscode-notebook-cell:/c%3A/Users/LT04/toanbui1991/python/web_scraping/parse_vn_30_page.ipynb#ch0000001?line=23'>24</a>\u001b[0m     time\u001b[39m.\u001b[39msleep(\u001b[39m5\u001b[39m)\n",
      "File \u001b[1;32mc:\\Users\\LT04\\toanbui1991\\python\\web_scraping\\venv\\lib\\site-packages\\selenium\\webdriver\\remote\\webdriver.py:437\u001b[0m, in \u001b[0;36mWebDriver.get\u001b[1;34m(self, url)\u001b[0m\n\u001b[0;32m    <a href='file:///c%3A/Users/LT04/toanbui1991/python/web_scraping/venv/lib/site-packages/selenium/webdriver/remote/webdriver.py?line=432'>433</a>\u001b[0m \u001b[39mdef\u001b[39;00m \u001b[39mget\u001b[39m(\u001b[39mself\u001b[39m, url: \u001b[39mstr\u001b[39m) \u001b[39m-\u001b[39m\u001b[39m>\u001b[39m \u001b[39mNone\u001b[39;00m:\n\u001b[0;32m    <a href='file:///c%3A/Users/LT04/toanbui1991/python/web_scraping/venv/lib/site-packages/selenium/webdriver/remote/webdriver.py?line=433'>434</a>\u001b[0m     \u001b[39m\"\"\"\u001b[39;00m\n\u001b[0;32m    <a href='file:///c%3A/Users/LT04/toanbui1991/python/web_scraping/venv/lib/site-packages/selenium/webdriver/remote/webdriver.py?line=434'>435</a>\u001b[0m \u001b[39m    Loads a web page in the current browser session.\u001b[39;00m\n\u001b[0;32m    <a href='file:///c%3A/Users/LT04/toanbui1991/python/web_scraping/venv/lib/site-packages/selenium/webdriver/remote/webdriver.py?line=435'>436</a>\u001b[0m \u001b[39m    \"\"\"\u001b[39;00m\n\u001b[1;32m--> <a href='file:///c%3A/Users/LT04/toanbui1991/python/web_scraping/venv/lib/site-packages/selenium/webdriver/remote/webdriver.py?line=436'>437</a>\u001b[0m     \u001b[39mself\u001b[39;49m\u001b[39m.\u001b[39;49mexecute(Command\u001b[39m.\u001b[39;49mGET, {\u001b[39m'\u001b[39;49m\u001b[39murl\u001b[39;49m\u001b[39m'\u001b[39;49m: url})\n",
      "File \u001b[1;32mc:\\Users\\LT04\\toanbui1991\\python\\web_scraping\\venv\\lib\\site-packages\\selenium\\webdriver\\remote\\webdriver.py:425\u001b[0m, in \u001b[0;36mWebDriver.execute\u001b[1;34m(self, driver_command, params)\u001b[0m\n\u001b[0;32m    <a href='file:///c%3A/Users/LT04/toanbui1991/python/web_scraping/venv/lib/site-packages/selenium/webdriver/remote/webdriver.py?line=422'>423</a>\u001b[0m response \u001b[39m=\u001b[39m \u001b[39mself\u001b[39m\u001b[39m.\u001b[39mcommand_executor\u001b[39m.\u001b[39mexecute(driver_command, params)\n\u001b[0;32m    <a href='file:///c%3A/Users/LT04/toanbui1991/python/web_scraping/venv/lib/site-packages/selenium/webdriver/remote/webdriver.py?line=423'>424</a>\u001b[0m \u001b[39mif\u001b[39;00m response:\n\u001b[1;32m--> <a href='file:///c%3A/Users/LT04/toanbui1991/python/web_scraping/venv/lib/site-packages/selenium/webdriver/remote/webdriver.py?line=424'>425</a>\u001b[0m     \u001b[39mself\u001b[39;49m\u001b[39m.\u001b[39;49merror_handler\u001b[39m.\u001b[39;49mcheck_response(response)\n\u001b[0;32m    <a href='file:///c%3A/Users/LT04/toanbui1991/python/web_scraping/venv/lib/site-packages/selenium/webdriver/remote/webdriver.py?line=425'>426</a>\u001b[0m     response[\u001b[39m'\u001b[39m\u001b[39mvalue\u001b[39m\u001b[39m'\u001b[39m] \u001b[39m=\u001b[39m \u001b[39mself\u001b[39m\u001b[39m.\u001b[39m_unwrap_value(\n\u001b[0;32m    <a href='file:///c%3A/Users/LT04/toanbui1991/python/web_scraping/venv/lib/site-packages/selenium/webdriver/remote/webdriver.py?line=426'>427</a>\u001b[0m         response\u001b[39m.\u001b[39mget(\u001b[39m'\u001b[39m\u001b[39mvalue\u001b[39m\u001b[39m'\u001b[39m, \u001b[39mNone\u001b[39;00m))\n\u001b[0;32m    <a href='file:///c%3A/Users/LT04/toanbui1991/python/web_scraping/venv/lib/site-packages/selenium/webdriver/remote/webdriver.py?line=427'>428</a>\u001b[0m     \u001b[39mreturn\u001b[39;00m response\n",
      "File \u001b[1;32mc:\\Users\\LT04\\toanbui1991\\python\\web_scraping\\venv\\lib\\site-packages\\selenium\\webdriver\\remote\\errorhandler.py:247\u001b[0m, in \u001b[0;36mErrorHandler.check_response\u001b[1;34m(self, response)\u001b[0m\n\u001b[0;32m    <a href='file:///c%3A/Users/LT04/toanbui1991/python/web_scraping/venv/lib/site-packages/selenium/webdriver/remote/errorhandler.py?line=244'>245</a>\u001b[0m         alert_text \u001b[39m=\u001b[39m value[\u001b[39m'\u001b[39m\u001b[39malert\u001b[39m\u001b[39m'\u001b[39m]\u001b[39m.\u001b[39mget(\u001b[39m'\u001b[39m\u001b[39mtext\u001b[39m\u001b[39m'\u001b[39m)\n\u001b[0;32m    <a href='file:///c%3A/Users/LT04/toanbui1991/python/web_scraping/venv/lib/site-packages/selenium/webdriver/remote/errorhandler.py?line=245'>246</a>\u001b[0m     \u001b[39mraise\u001b[39;00m exception_class(message, screen, stacktrace, alert_text)  \u001b[39m# type: ignore[call-arg]  # mypy is not smart enough here\u001b[39;00m\n\u001b[1;32m--> <a href='file:///c%3A/Users/LT04/toanbui1991/python/web_scraping/venv/lib/site-packages/selenium/webdriver/remote/errorhandler.py?line=246'>247</a>\u001b[0m \u001b[39mraise\u001b[39;00m exception_class(message, screen, stacktrace)\n",
      "\u001b[1;31mInvalidArgumentException\u001b[0m: Message: invalid argument: missing command parameters\nStacktrace:\nBacktrace:\n\tOrdinal0 [0x011C7413+2389011]\n\tOrdinal0 [0x01159F61+1941345]\n\tOrdinal0 [0x0104C658+837208]\n\tOrdinal0 [0x01092012+1122322]\n\tOrdinal0 [0x01091A29+1120809]\n\tOrdinal0 [0x0102D207+709127]\n\tOrdinal0 [0x0102D783+710531]\n\tOrdinal0 [0x0102DBBA+711610]\n\tGetHandleVerifier [0x01379632+1727522]\n\tGetHandleVerifier [0x0142BA4D+2457661]\n\tGetHandleVerifier [0x0125EB81+569713]\n\tGetHandleVerifier [0x0125DD76+566118]\n\tOrdinal0 [0x01160B2B+1968939]\n\tOrdinal0 [0x0102CF97+708503]\n\tOrdinal0 [0x0102CA48+707144]\n\tGetHandleVerifier [0x0145110C+2610940]\n\tBaseThreadInitThunk [0x7701FA29+25]\n\tRtlGetAppContainerNamedObjectPath [0x77967A7E+286]\n\tRtlGetAppContainerNamedObjectPath [0x77967A4E+238]\n"
     ]
    }
   ],
   "source": [
    "import time\n",
    "import pandas as pd\n",
    "from selenium.webdriver import Chrome, ChromeOptions\n",
    "from selenium.webdriver.common.by import By\n",
    "from selenium.webdriver.common.keys import Keys\n",
    "from selenium.webdriver.support.ui import WebDriverWait\n",
    "from selenium.webdriver.support import expected_conditions as EC\n",
    "from bs4 import BeautifulSoup\n",
    "\n",
    "\n",
    "\n",
    "#setting\n",
    "driver_path = './chromedriver.exe'\n",
    "options = ChromeOptions()\n",
    "options.add_argument(\"--lang=ko-KR\")\n",
    "stocks = list(vn_30_data[\"Mã CK\"])\n",
    "links = list(vn_30_data[\"Link\"])\n",
    "with Chrome(executable_path=driver_path, chrome_options=options) as driver:\n",
    "    wait = WebDriverWait(driver,15)\n",
    "    \n",
    "    for stock, link in zip(stocks, links):\n",
    "        print('{}: {}'.format(stock, link))\n",
    "        driver.get(link)\n",
    "        time.sleep(5)\n",
    "    #\n"
   ]
  }
 ],
 "metadata": {
  "interpreter": {
   "hash": "21cae261c06e6b2ddbac067de65194c36d007258b083f211447bd20439435eae"
  },
  "kernelspec": {
   "display_name": "Python 3.10.4 ('venv': venv)",
   "language": "python",
   "name": "python3"
  },
  "language_info": {
   "codemirror_mode": {
    "name": "ipython",
    "version": 3
   },
   "file_extension": ".py",
   "mimetype": "text/x-python",
   "name": "python",
   "nbconvert_exporter": "python",
   "pygments_lexer": "ipython3",
   "version": "3.10.4"
  },
  "orig_nbformat": 4
 },
 "nbformat": 4,
 "nbformat_minor": 2
}
