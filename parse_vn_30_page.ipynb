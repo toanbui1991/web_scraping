{
 "cells": [
  {
   "cell_type": "code",
   "execution_count": 11,
   "metadata": {},
   "outputs": [
    {
     "name": "stdout",
     "output_type": "stream",
     "text": [
      "  Mã CK                                   Tên công ty  \\\n",
      "0   ACB                         Ngân hàng TMCP Á Châu   \n",
      "1   BID  Ngân hàng TMCP Đầu tư và Phát triển Việt Nam   \n",
      "2   BVH                             Tập đoàn Bảo Việt   \n",
      "3   CTG           Ngân hàng TMCP Công Thương Việt Nam   \n",
      "4   FPT                                      CTCP FPT   \n",
      "\n",
      "                                            Ngành   Sàn  Khối lượng niên yết  \\\n",
      "0  Trung gian tín dụng và các hoạt động liên quan  HOSE         2.701948e+09   \n",
      "1  Trung gian tín dụng và các hoạt động liên quan  HOSE         5.058524e+09   \n",
      "2             Bảo hiểm và các hoạt động liên quan  HOSE         7.423228e+08   \n",
      "3  Trung gian tín dụng và các hoạt động liên quan  HOSE         4.805751e+09   \n",
      "4       Công nghiệp xuất bản - Ngoại trừ internet  HOSE         9.075516e+08   \n",
      "\n",
      "                                                Link  \n",
      "0  https://finance.vietstock.vn/ACB-ngan-hang-tmc...  \n",
      "1  https://finance.vietstock.vn/BID-ngan-hang-tmc...  \n",
      "2  https://finance.vietstock.vn/BVH-tap-doan-bao-...  \n",
      "3  https://finance.vietstock.vn/CTG-ngan-hang-tmc...  \n",
      "4      https://finance.vietstock.vn/FPT-ctcp-fpt.htm  \n"
     ]
    }
   ],
   "source": [
    "import pandas as pd\n",
    "import numpy as np\n",
    "\n",
    "vn_30_path = './data/vn_30_list.csv'\n",
    "vn_30_data = pd.read_csv(vn_30_path)\n",
    "vn_30_data.drop(columns=[\"Unnamed: 0\"], inplace=True)\n",
    "stock_dict_path = './data/stocks_dict.csv'\n",
    "stock_data = pd.read_csv(stock_dict_path)\n",
    "stock_data.drop(columns=['Unnamed: 0'], inplace=True)\n",
    "#get links from stocks_data\n",
    "vn_30_data = pd.merge(left=vn_30_data, right=stock_data, on=['Mã CK'], how='left')\n",
    "#index=False if do not have named index, which is most of the case\n",
    "vn_30_data.to_csv('./data/vn_30_with_links.csv', index=False) \n"
   ]
  },
  {
   "cell_type": "code",
   "execution_count": 13,
   "metadata": {},
   "outputs": [
    {
     "name": "stderr",
     "output_type": "stream",
     "text": [
      "C:\\Users\\LT04\\AppData\\Local\\Temp\\ipykernel_7624\\1512172945.py:16: DeprecationWarning: executable_path has been deprecated, please pass in a Service object\n",
      "  with Chrome(executable_path=driver_path, chrome_options=options) as driver:\n",
      "C:\\Users\\LT04\\AppData\\Local\\Temp\\ipykernel_7624\\1512172945.py:16: DeprecationWarning: use options instead of chrome_options\n",
      "  with Chrome(executable_path=driver_path, chrome_options=options) as driver:\n"
     ]
    },
    {
     "name": "stdout",
     "output_type": "stream",
     "text": [
      "Mã CK\n"
     ]
    },
    {
     "ename": "NameError",
     "evalue": "name 'stock' is not defined",
     "output_type": "error",
     "traceback": [
      "\u001b[1;31m---------------------------------------------------------------------------\u001b[0m",
      "\u001b[1;31mNameError\u001b[0m                                 Traceback (most recent call last)",
      "\u001b[1;32mc:\\Users\\LT04\\toanbui1991\\python\\web_scraping\\parse_vn_30_page.ipynb Cell 2'\u001b[0m in \u001b[0;36m<cell line: 16>\u001b[1;34m()\u001b[0m\n\u001b[0;32m     <a href='vscode-notebook-cell:/c%3A/Users/LT04/toanbui1991/python/web_scraping/parse_vn_30_page.ipynb#ch0000001?line=18'>19</a>\u001b[0m \u001b[39mfor\u001b[39;00m row \u001b[39min\u001b[39;00m vn_30_data:\n\u001b[0;32m     <a href='vscode-notebook-cell:/c%3A/Users/LT04/toanbui1991/python/web_scraping/parse_vn_30_page.ipynb#ch0000001?line=19'>20</a>\u001b[0m     \u001b[39mprint\u001b[39m(row)\n\u001b[1;32m---> <a href='vscode-notebook-cell:/c%3A/Users/LT04/toanbui1991/python/web_scraping/parse_vn_30_page.ipynb#ch0000001?line=20'>21</a>\u001b[0m     \u001b[39mprint\u001b[39m(\u001b[39m'\u001b[39m\u001b[39m{}\u001b[39;00m\u001b[39m: \u001b[39m\u001b[39m{}\u001b[39;00m\u001b[39m'\u001b[39m\u001b[39m.\u001b[39mformat(stock, link))\n\u001b[0;32m     <a href='vscode-notebook-cell:/c%3A/Users/LT04/toanbui1991/python/web_scraping/parse_vn_30_page.ipynb#ch0000001?line=21'>22</a>\u001b[0m     driver\u001b[39m.\u001b[39mget(link)\n\u001b[0;32m     <a href='vscode-notebook-cell:/c%3A/Users/LT04/toanbui1991/python/web_scraping/parse_vn_30_page.ipynb#ch0000001?line=22'>23</a>\u001b[0m     time\u001b[39m.\u001b[39msleep(\u001b[39m5\u001b[39m)\n",
      "\u001b[1;31mNameError\u001b[0m: name 'stock' is not defined"
     ]
    }
   ],
   "source": [
    "import time\n",
    "import pandas as pd\n",
    "from selenium.webdriver import Chrome, ChromeOptions\n",
    "from selenium.webdriver.common.by import By\n",
    "from selenium.webdriver.common.keys import Keys\n",
    "from selenium.webdriver.support.ui import WebDriverWait\n",
    "from selenium.webdriver.support import expected_conditions as EC\n",
    "from bs4 import BeautifulSoup\n",
    "\n",
    "\n",
    "\n",
    "#setting\n",
    "driver_path = './chromedriver.exe'\n",
    "options = ChromeOptions()\n",
    "options.add_argument(\"--lang=ko-KR\")\n",
    "stocks = list(vn_30_data[\"Mã CK\"])\n",
    "links = list(vn_30_data[\"Link\"])\n",
    "with Chrome(executable_path=driver_path, chrome_options=options) as driver:\n",
    "    wait = WebDriverWait(driver,15)\n",
    "    \n",
    "    for stock, link in zip(stocks, links):\n",
    "        print('{}: {}'.format(stock, link))\n",
    "        driver.get(link)\n",
    "        time.sleep(5)\n",
    "    #\n"
   ]
  }
 ],
 "metadata": {
  "interpreter": {
   "hash": "21cae261c06e6b2ddbac067de65194c36d007258b083f211447bd20439435eae"
  },
  "kernelspec": {
   "display_name": "Python 3.10.4 ('venv': venv)",
   "language": "python",
   "name": "python3"
  },
  "language_info": {
   "codemirror_mode": {
    "name": "ipython",
    "version": 3
   },
   "file_extension": ".py",
   "mimetype": "text/x-python",
   "name": "python",
   "nbconvert_exporter": "python",
   "pygments_lexer": "ipython3",
   "version": "3.10.4"
  },
  "orig_nbformat": 4
 },
 "nbformat": 4,
 "nbformat_minor": 2
}
