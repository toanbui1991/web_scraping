{
 "cells": [
  {
   "cell_type": "code",
   "execution_count": 2,
   "metadata": {},
   "outputs": [
    {
     "name": "stdout",
     "output_type": "stream",
     "text": [
      "types: Unnamed: 0       int64\n",
      "NN mua          object\n",
      "% NN sở hữu    float64\n",
      "Cổ tức TM       object\n",
      "T/S cổ tức      object\n",
      "Beta           float64\n",
      "EPS             object\n",
      "P/E            float64\n",
      "F P/E          float64\n",
      "BVPS            object\n",
      "P/B            float64\n",
      "stock           object\n",
      "dtype: object\n"
     ]
    }
   ],
   "source": [
    "import numpy as np\n",
    "import pandas as pd\n",
    "\n",
    "data = pd.read_csv('./data/vn_30_key_index.csv')\n",
    "print('types: {}'.format(data.dtypes))\n",
    "data = data.sort_values(by=['P/E'])\n",
    "data.to_csv('./data/analytics_vn_30.csv')"
   ]
  }
 ],
 "metadata": {
  "interpreter": {
   "hash": "21cae261c06e6b2ddbac067de65194c36d007258b083f211447bd20439435eae"
  },
  "kernelspec": {
   "display_name": "Python 3.10.4 ('venv': venv)",
   "language": "python",
   "name": "python3"
  },
  "language_info": {
   "codemirror_mode": {
    "name": "ipython",
    "version": 3
   },
   "file_extension": ".py",
   "mimetype": "text/x-python",
   "name": "python",
   "nbconvert_exporter": "python",
   "pygments_lexer": "ipython3",
   "version": "3.10.4"
  },
  "orig_nbformat": 4
 },
 "nbformat": 4,
 "nbformat_minor": 2
}
