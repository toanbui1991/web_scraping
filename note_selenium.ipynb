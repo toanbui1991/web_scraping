{
 "cells": [
  {
   "cell_type": "markdown",
   "metadata": {},
   "source": [
    "- driver = Chrome(driver_path) return driver object\n",
    "- driver.get(target_link) #load web page in the current browser section\n",
    "- WebDriverWait(driver, timeout) init wait instance\n",
    "- wait.until(method, message='') call method with drivers as an argument until return value do not evaluate to False\n",
    "- EC.visibility_of_element_located(locator), check visibility of elment and return element if it exist\n",
    "- EC.presence_of_element_located(locator) find an element and return that matched element\n",
    "- EC.presence_of_all_elements_located(locator) return list of matched elemtns\n",
    "- Element.send_keys(key) simulate keyboard type\n",
    "- driver.page_source return html page content\n",
    "- locator is tuple with (locator_type, rule). example ((By.CSS_SELECTOR, 'h2#count span'))\n",
    "- use ChromeOptions object to add option into Chrome driver. \n",
    "- options.add_argument('--lang=ko-KR')\n",
    "- Chrome(executable_path=driver_path, chrome_options=options)\n",
    "\n"
   ]
  },
  {
   "cell_type": "code",
   "execution_count": null,
   "metadata": {},
   "outputs": [],
   "source": [
    "from selenium.webdriver import Chrome\n",
    "from selenium.webdriver.common.by import By\n",
    "from selenium.webdriver.common.keys import Keys\n",
    "from selenium.webdriver.support.ui import WebDriverWait\n",
    "from selenium.webdriver.support import expected_conditions as EC\n",
    "\n",
    "#setting\n",
    "driver_path = './chromedriver.exe'\n",
    "target_link = 'https://www.youtube.com/watch?v=_wlTizkaQx8&t=132s'\n",
    "with Chrome(executable_path=driver_path) as driver:\n",
    "    wait = WebDriverWait(driver,15)\n",
    "    driver.get(target_link)"
   ]
  }
 ],
 "metadata": {
  "interpreter": {
   "hash": "66eb6ab1fcd41f5e0e31fde00e355e0a502ada1aa4d4fd8fa8f0fc89f7364ad2"
  },
  "kernelspec": {
   "display_name": "Python 3.10.4 ('venv': venv)",
   "language": "python",
   "name": "python3"
  },
  "language_info": {
   "name": "python",
   "version": "3.10.4"
  },
  "orig_nbformat": 4
 },
 "nbformat": 4,
 "nbformat_minor": 2
}
