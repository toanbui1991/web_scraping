{
 "cells": [
  {
   "cell_type": "code",
   "execution_count": null,
   "metadata": {},
   "outputs": [],
   "source": [
    "service = services.Chromedriver()\n",
    "browser = browsers.Chrome(chromeOptions={\n",
    "    'args': ['--headless', '--disable-gpu']\n",
    "})\n",
    "async with get_session(service, browser) as session:"
   ]
  }
 ],
 "metadata": {
  "language_info": {
   "name": "python"
  },
  "orig_nbformat": 4
 },
 "nbformat": 4,
 "nbformat_minor": 2
}
