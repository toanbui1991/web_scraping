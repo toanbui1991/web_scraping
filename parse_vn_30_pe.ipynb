{
 "cells": [
  {
   "cell_type": "code",
   "execution_count": 2,
   "metadata": {},
   "outputs": [
    {
     "name": "stdout",
     "output_type": "stream",
     "text": [
      "    Unnamed: 0 Mã CK\n",
      "0            0   ACB\n",
      "1            1   BID\n",
      "2            2   BVH\n",
      "3            3   CTG\n",
      "4            4   FPT\n",
      "5            5   GAS\n",
      "6            6   GVR\n",
      "7            7   HDB\n",
      "8            8   HPG\n",
      "9            9   KDH\n",
      "10          10   MBB\n",
      "11          11   MSN\n",
      "12          12   MWG\n",
      "13          13   NVL\n",
      "14          14   PDR\n",
      "15          15  PLX*\n",
      "16          16   PNJ\n",
      "17          17   POW\n",
      "18          18   SAB\n",
      "19          19   SSI\n",
      "20          20   STB\n",
      "21          21   TCB\n",
      "22          22   TPB\n",
      "23          23   VCB\n",
      "24          24   VHM\n",
      "25          25   VIC\n",
      "26          26   VJC\n",
      "27          27   VNM\n",
      "28          28   VPB\n",
      "29          29   VRE\n"
     ]
    }
   ],
   "source": [
    "import pandas as pd\n",
    "import numpy as np\n",
    "\n",
    "stock_data = pd.read_csv('./data/vn_30_list.csv')\n",
    "print(stock_data)"
   ]
  },
  {
   "cell_type": "code",
   "execution_count": null,
   "metadata": {},
   "outputs": [],
   "source": [
    "#sign in for vietstock.vn\n",
    "import time\n",
    "import pandas as pd\n",
    "import numpy as np\n",
    "from selenium.webdriver import Chrome, ChromeOptions\n",
    "from selenium.webdriver.common.by import By\n",
    "from selenium.webdriver.common.keys import Keys\n",
    "from selenium.webdriver.support.ui import WebDriverWait\n",
    "from selenium.webdriver.support import expected_conditions as EC\n",
    "from bs4 import BeautifulSoup\n",
    "\n",
    "#setting\n",
    "email = 'buixuantoan1991@live.com'\n",
    "password = 'Buixuantoan@916263'\n",
    "driver_path = './chromedriver.exe'\n",
    "target_link = 'https://vietstock.vn/'\n",
    "options = ChromeOptions()\n",
    "options.add_argument(\"--lang=vi-vn\")\n"
   ]
  }
 ],
 "metadata": {
  "interpreter": {
   "hash": "21cae261c06e6b2ddbac067de65194c36d007258b083f211447bd20439435eae"
  },
  "kernelspec": {
   "display_name": "Python 3.10.4 ('venv': venv)",
   "language": "python",
   "name": "python3"
  },
  "language_info": {
   "codemirror_mode": {
    "name": "ipython",
    "version": 3
   },
   "file_extension": ".py",
   "mimetype": "text/x-python",
   "name": "python",
   "nbconvert_exporter": "python",
   "pygments_lexer": "ipython3",
   "version": "3.10.4"
  },
  "orig_nbformat": 4
 },
 "nbformat": 4,
 "nbformat_minor": 2
}
