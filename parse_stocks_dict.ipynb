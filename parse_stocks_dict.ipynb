{
 "cells": [
  {
   "cell_type": "code",
   "execution_count": 4,
   "metadata": {},
   "outputs": [
    {
     "name": "stdout",
     "output_type": "stream",
     "text": [
      "['stocks_page_1.csv', 'stocks_page_10.csv', 'stocks_page_100.csv', 'stocks_page_101.csv', 'stocks_page_102.csv', 'stocks_page_103.csv', 'stocks_page_104.csv', 'stocks_page_105.csv', 'stocks_page_106.csv', 'stocks_page_107.csv', 'stocks_page_108.csv', 'stocks_page_109.csv', 'stocks_page_11.csv', 'stocks_page_110.csv', 'stocks_page_111.csv', 'stocks_page_112.csv', 'stocks_page_113.csv', 'stocks_page_114.csv', 'stocks_page_115.csv', 'stocks_page_116.csv', 'stocks_page_117.csv', 'stocks_page_118.csv', 'stocks_page_119.csv', 'stocks_page_12.csv', 'stocks_page_120.csv', 'stocks_page_121.csv', 'stocks_page_122.csv', 'stocks_page_123.csv', 'stocks_page_124.csv', 'stocks_page_125.csv', 'stocks_page_126.csv', 'stocks_page_127.csv', 'stocks_page_128.csv', 'stocks_page_129.csv', 'stocks_page_13.csv', 'stocks_page_130.csv', 'stocks_page_131.csv', 'stocks_page_132.csv', 'stocks_page_133.csv', 'stocks_page_134.csv', 'stocks_page_135.csv', 'stocks_page_136.csv', 'stocks_page_137.csv', 'stocks_page_138.csv', 'stocks_page_139.csv', 'stocks_page_14.csv', 'stocks_page_140.csv', 'stocks_page_141.csv', 'stocks_page_142.csv', 'stocks_page_143.csv', 'stocks_page_144.csv', 'stocks_page_145.csv', 'stocks_page_146.csv', 'stocks_page_147.csv', 'stocks_page_148.csv', 'stocks_page_149.csv', 'stocks_page_15.csv', 'stocks_page_150.csv', 'stocks_page_151.csv', 'stocks_page_152.csv', 'stocks_page_153.csv', 'stocks_page_154.csv', 'stocks_page_155.csv', 'stocks_page_156.csv', 'stocks_page_157.csv', 'stocks_page_158.csv', 'stocks_page_159.csv', 'stocks_page_16.csv', 'stocks_page_160.csv', 'stocks_page_161.csv', 'stocks_page_17.csv', 'stocks_page_18.csv', 'stocks_page_19.csv', 'stocks_page_2.csv', 'stocks_page_20.csv', 'stocks_page_21.csv', 'stocks_page_22.csv', 'stocks_page_23.csv', 'stocks_page_24.csv', 'stocks_page_25.csv', 'stocks_page_26.csv', 'stocks_page_27.csv', 'stocks_page_28.csv', 'stocks_page_29.csv', 'stocks_page_3.csv', 'stocks_page_30.csv', 'stocks_page_31.csv', 'stocks_page_32.csv', 'stocks_page_33.csv', 'stocks_page_34.csv', 'stocks_page_35.csv', 'stocks_page_36.csv', 'stocks_page_37.csv', 'stocks_page_38.csv', 'stocks_page_39.csv', 'stocks_page_4.csv', 'stocks_page_40.csv', 'stocks_page_41.csv', 'stocks_page_42.csv', 'stocks_page_43.csv', 'stocks_page_44.csv', 'stocks_page_45.csv', 'stocks_page_46.csv', 'stocks_page_47.csv', 'stocks_page_48.csv', 'stocks_page_49.csv', 'stocks_page_5.csv', 'stocks_page_50.csv', 'stocks_page_51.csv', 'stocks_page_52.csv', 'stocks_page_53.csv', 'stocks_page_54.csv', 'stocks_page_55.csv', 'stocks_page_56.csv', 'stocks_page_57.csv', 'stocks_page_58.csv', 'stocks_page_59.csv', 'stocks_page_6.csv', 'stocks_page_60.csv', 'stocks_page_61.csv', 'stocks_page_62.csv', 'stocks_page_63.csv', 'stocks_page_64.csv', 'stocks_page_65.csv', 'stocks_page_66.csv', 'stocks_page_67.csv', 'stocks_page_68.csv', 'stocks_page_69.csv', 'stocks_page_7.csv', 'stocks_page_70.csv', 'stocks_page_71.csv', 'stocks_page_72.csv', 'stocks_page_73.csv', 'stocks_page_74.csv', 'stocks_page_75.csv', 'stocks_page_76.csv', 'stocks_page_77.csv', 'stocks_page_78.csv', 'stocks_page_79.csv', 'stocks_page_8.csv', 'stocks_page_80.csv', 'stocks_page_81.csv', 'stocks_page_82.csv', 'stocks_page_83.csv', 'stocks_page_84.csv', 'stocks_page_85.csv', 'stocks_page_86.csv', 'stocks_page_87.csv', 'stocks_page_88.csv', 'stocks_page_89.csv', 'stocks_page_9.csv', 'stocks_page_90.csv', 'stocks_page_91.csv', 'stocks_page_92.csv', 'stocks_page_93.csv', 'stocks_page_94.csv', 'stocks_page_95.csv', 'stocks_page_96.csv', 'stocks_page_97.csv', 'stocks_page_98.csv', 'stocks_page_99.csv']\n"
     ]
    }
   ],
   "source": [
    "import os, re\n",
    "import pandas as pd\n",
    "import numpy as np\n",
    "\n",
    "directory = './data'\n",
    "files = os.listdir(directory)\n",
    "#filter files\n",
    "files = [file for file in files if re.search('stocks_page_\\d+.csv', file)]\n",
    "print(files)"
   ]
  },
  {
   "cell_type": "code",
   "execution_count": 5,
   "metadata": {},
   "outputs": [
    {
     "name": "stdout",
     "output_type": "stream",
     "text": [
      "the shape of stock_data: (3201, 8)\n"
     ]
    }
   ],
   "source": [
    "#pd.concat(data_list), take list of dataframe and return combined dataframe\n",
    "data_list = []\n",
    "for file in files:\n",
    "    data = pd.read_csv('./data/{}'.format(file))\n",
    "    data_list.append(data)\n",
    "stock_data = pd.concat(data_list)\n",
    "print('the shape of stock_data: {}'.format(stock_data.shape))"
   ]
  }
 ],
 "metadata": {
  "interpreter": {
   "hash": "21cae261c06e6b2ddbac067de65194c36d007258b083f211447bd20439435eae"
  },
  "kernelspec": {
   "display_name": "Python 3.10.4 ('venv': venv)",
   "language": "python",
   "name": "python3"
  },
  "language_info": {
   "codemirror_mode": {
    "name": "ipython",
    "version": 3
   },
   "file_extension": ".py",
   "mimetype": "text/x-python",
   "name": "python",
   "nbconvert_exporter": "python",
   "pygments_lexer": "ipython3",
   "version": "3.10.4"
  },
  "orig_nbformat": 4
 },
 "nbformat": 4,
 "nbformat_minor": 2
}
